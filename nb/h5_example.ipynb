{
 "cells": [
  {
   "cell_type": "code",
   "execution_count": null,
   "id": "8c70ba8c-ad30-4dee-8ef2-c154863a44f9",
   "metadata": {},
   "outputs": [],
   "source": [
    "import numpy as np\n",
    "import matplotlib.pyplot as plt\n",
    "import h5py\n",
    "import plotly.graph_objects as go"
   ]
  },
  {
   "cell_type": "markdown",
   "id": "ba906720-74af-4e7b-8992-b47b7cf1085d",
   "metadata": {},
   "source": [
    "On présente dans ce notebook comment lire des données d'un fichier `hdf5` généré par samurai, représentant la donnée d'un champ sur un maillage cartésien non-uniforme."
   ]
  },
  {
   "cell_type": "code",
   "execution_count": null,
   "id": "e45af822-9bb4-40d6-b25b-ed007336258e",
   "metadata": {},
   "outputs": [],
   "source": [
    "def import_2d_h5(filename_f5):\n",
    "    file = h5py.File(filename_f5, 'r')\n",
    "    mesh = file['mesh']\n",
    "    points = mesh['points']\n",
    "    connectivity = mesh['connectivity']\n",
    "    squares = np.array([points[connectivity[i]][:, :-1]\n",
    "                       for i in range(connectivity.shape[0])])\n",
    "    centers = np.array([0.25*np.sum(pts, axis=0) for pts in squares])\n",
    "    fields  = {\n",
    "        key: mesh['fields'][key][:]\n",
    "        for key in mesh['fields'].keys()\n",
    "    }\n",
    "    file.close()\n",
    "\n",
    "    return squares, centers, fields"
   ]
  },
  {
   "cell_type": "code",
   "execution_count": null,
   "id": "9422f077-f6a8-4e5f-b21e-7b0edf01bb48",
   "metadata": {},
   "outputs": [],
   "source": [
    "class h5_2d_data:\n",
    "    def __init__(self, filename_h5):\n",
    "        self.squares, self.centers, self.fields = import_2d_h5(filename_h5)\n",
    "\n",
    "    def x(self):\n",
    "        return self.centers[:, 0][:]\n",
    "        \n",
    "    def y(self):\n",
    "        return self.centers[:, 1][:]\n",
    "\n",
    "    def z(self, field):\n",
    "        return self.fields[field][:]\n",
    "    \n",
    "    def keys(self):\n",
    "        return self.fields.keys()\n",
    "\n",
    "    def dx(self):\n",
    "        return np.max(self.squares[:,:,0], axis=1) - np.min(self.squares[:,:,0], axis=1)\n",
    "        \n",
    "    def dy(self):\n",
    "        return np.max(self.squares[:,:,1], axis=1) - np.min(self.squares[:,:,1], axis=1)\n",
    "\n",
    "    def dxdy(self):\n",
    "        return self.dx()*self.dy()\n",
    "\n",
    "    def integral(self, field):\n",
    "        return np.sum(self.z(field)*self.dxdy())"
   ]
  },
  {
   "cell_type": "code",
   "execution_count": null,
   "id": "fa253e37-4673-45cc-af8c-ff536c7eaf8f",
   "metadata": {},
   "outputs": [],
   "source": [
    "data = h5_2d_data(\"y_final.h5\")"
   ]
  },
  {
   "cell_type": "markdown",
   "id": "53feab12-8d79-41fa-9b8a-de8586c44eef",
   "metadata": {},
   "source": [
    "Visualisons les points (centre de chaque maille) de ces données"
   ]
  },
  {
   "cell_type": "code",
   "execution_count": null,
   "id": "cd360bd5-c074-4536-baef-799c51edf755",
   "metadata": {},
   "outputs": [],
   "source": [
    "plt.plot(data.x(), data.y(), \"+\")\n",
    "plt.axis('scaled')\n",
    "plt.show()"
   ]
  },
  {
   "cell_type": "code",
   "execution_count": null,
   "id": "8262a71d-f0e9-4795-aa37-7815a7ce3939",
   "metadata": {},
   "outputs": [],
   "source": [
    "fig, ax = plt.subplots()\n",
    "ax.set_aspect('equal')\n",
    "\n",
    "ax.tricontour(data.x(), data.y(), data.z(\"u_1\"), levels=5, linewidths=0.5, colors='k')\n",
    "ax.tricontourf(data.x(), data.y(), data.z(\"u_2\"), levels=200, cmap=\"RdBu_r\")\n",
    "\n",
    "ax.plot(np.inf, np.inf, \"-\", linewidth=0.5, color='k', label=\"$b$\")\n",
    "ax.plot(np.inf, np.inf, \"s\", color='red', alpha=0.75, label=\"$c$\")\n",
    "ax.legend()\n",
    "ax.set_xlabel(\"$x$\")\n",
    "ax.set_ylabel(\"$y$\")\n",
    "plt.show()\n",
    "\n",
    "#####\n",
    "\n",
    "fig, ax = plt.subplots()\n",
    "ax.set_aspect('equal')\n",
    "\n",
    "ax.tricontour(data.x(), data.y(), data.z(\"level\"), levels=range(min(data.z(\"level\")),max(data.z(\"level\"))+1), linewidths=0.5, colors='k')\n",
    "ax.tricontourf(data.x(), data.y(), data.z(\"u_0\"), levels=200, cmap=\"RdBu_r\")\n",
    "\n",
    "ax.plot(np.inf, np.inf, \"-\", linewidth=0.5, color='k', label=\"levels\")\n",
    "ax.plot(data.x(), data.y(), \"+\", color=\"k\", alpha=0.125, label=\"center of cells\")\n",
    "ax.legend()\n",
    "ax.set_xlabel(\"$x$\")\n",
    "ax.set_ylabel(\"$y$\")\n",
    "plt.show()\n",
    "\n",
    "#####\n",
    "\n",
    "fig, ax = plt.subplots()\n",
    "ax.set_aspect('equal')\n",
    "\n",
    "min_level = min(data.z(\"level\"))\n",
    "max_level = max(data.z(\"level\"))\n",
    "\n",
    "for i in range(min_level, max_level+1):\n",
    "    x = data.x()[data.z(\"level\") == i]\n",
    "    y = data.y()[data.z(\"level\") == i]\n",
    "    z = data.z(\"level\")[data.z(\"level\") == i]\n",
    "    #ax.plot(x, y, \"+\", color=f\"C{i-min_level}\", label=f\"level {i}\")\n",
    "    ax.tricontourf(x, y, z, colors=[f\"C{i-min_level}\"])\n",
    "\n",
    "#ax.legend()\n",
    "ax.set_xlabel(\"$x$\")\n",
    "ax.set_ylabel(\"$y$\")\n",
    "plt.show()"
   ]
  },
  {
   "cell_type": "markdown",
   "id": "dfcb8489-1ed5-4365-9782-c747c4b28663",
   "metadata": {},
   "source": [
    "Pour visualiser la donnée, celle-ci doit être représentée en 3D, et matplotlib n'est pas vraiment pratique d'utilisation dans ce contexte dans un notebook. La suite des visualisation s'effectuera en utilisant plotly."
   ]
  },
  {
   "cell_type": "code",
   "execution_count": null,
   "id": "a5085040-4536-42e4-9c4d-6255da0de13d",
   "metadata": {},
   "outputs": [],
   "source": [
    "fig = go.Figure(data=[go.Scatter3d(\n",
    "    x=data.x(),\n",
    "    y=data.y(),\n",
    "    z=data.z('level'),\n",
    "    mode='markers',\n",
    "    marker=dict(\n",
    "        size=3,\n",
    "        color=data.z('u_1'),\n",
    "        colorscale=\"portland\",\n",
    "        opacity=0.8\n",
    "    )\n",
    ")])\n",
    "fig.update_layout(\n",
    "    autosize=False,\n",
    "    width=800,\n",
    "    height=800\n",
    ")\n",
    "fig.show()"
   ]
  },
  {
   "cell_type": "code",
   "execution_count": null,
   "id": "a3471e72-e34a-4100-acf1-4c9514dcd2e9",
   "metadata": {},
   "outputs": [],
   "source": [
    "fig = go.Figure(data =\n",
    "    go.Heatmap(\n",
    "        x=data.x(),\n",
    "        y=data.y(),\n",
    "        z=data.z('u_1'),\n",
    "        connectgaps=True\n",
    "    ))\n",
    "fig.update_layout(\n",
    "    autosize=False,\n",
    "    width=800,\n",
    "    height=800\n",
    ")\n",
    "fig.show()"
   ]
  },
  {
   "cell_type": "code",
   "execution_count": null,
   "id": "da958cd2-e6dc-4490-adb2-8ec08327ac99",
   "metadata": {},
   "outputs": [],
   "source": [
    "fig = go.Figure(data=[go.Scatter3d(\n",
    "    x=data.x(),\n",
    "    y=data.y(),\n",
    "    z=data.z('u_2'),\n",
    "    surfaceaxis=2,\n",
    "    mode='markers',\n",
    "    marker=dict(\n",
    "        size=2,\n",
    "        color=data.z('u_2'),\n",
    "        colorscale=\"portland\"\n",
    "    )\n",
    ")])\n",
    "fig.update_layout(\n",
    "    autosize=False,\n",
    "    width=800,\n",
    "    height=800\n",
    ")\n",
    "fig.show()"
   ]
  },
  {
   "cell_type": "markdown",
   "id": "77a01780-9b48-4cc6-9666-38a029bfbbd9",
   "metadata": {},
   "source": [
    "Il est difficile d'exploiter les données pour calculer une integrale dans une seule direction à cause de la forme du maillage, de même pour effectuer une interpolation. Les seules grandeurs simples à calculer sont des intégrales sur tout le domaine pour effectuer des comparaisons."
   ]
  },
  {
   "cell_type": "code",
   "execution_count": null,
   "id": "40516582-5e26-4f6c-8b8a-7975b7b8af9b",
   "metadata": {},
   "outputs": [],
   "source": []
  }
 ],
 "metadata": {
  "kernelspec": {
   "display_name": "Python 3 (ipykernel)",
   "language": "python",
   "name": "python3"
  },
  "language_info": {
   "codemirror_mode": {
    "name": "ipython",
    "version": 3
   },
   "file_extension": ".py",
   "mimetype": "text/x-python",
   "name": "python",
   "nbconvert_exporter": "python",
   "pygments_lexer": "ipython3",
   "version": "3.12.8"
  }
 },
 "nbformat": 4,
 "nbformat_minor": 5
}
